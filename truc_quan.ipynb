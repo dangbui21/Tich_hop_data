{
 "cells": [
  {
   "cell_type": "markdown",
   "metadata": {},
   "source": [
    "DATA 1"
   ]
  },
  {
   "cell_type": "code",
   "execution_count": 8,
   "metadata": {},
   "outputs": [],
   "source": [
    "import pandas as pd\n",
    "import chardet\n",
    "\n",
    "def read_csv_auto_encoding(file_path, delimiter):\n",
    "    # Phát hiện mã hóa tự động\n",
    "    with open(file_path, 'rb') as f:\n",
    "        result = chardet.detect(f.read(10000))\n",
    "    \n",
    "    encoding = result['encoding']\n",
    "    print(f\"Detected encoding: {encoding}\")\n",
    "    \n",
    "    # Đọc tệp CSV với mã hóa được phát hiện\n",
    "    try:\n",
    "        df = pd.read_csv(file_path, delimiter=delimiter, encoding=encoding)            \n",
    "        return df\n",
    "    except Exception as e:\n",
    "        print(f\"Error with detected encoding {encoding}:\", e)\n",
    "        # Thử mã hóa phổ biến khác\n",
    "        for enc in ['latin1', 'iso-8859-1', 'cp1252']:\n",
    "            try:\n",
    "                df = pd.read_csv(file_path, delimiter=delimiter, encoding=enc)\n",
    "                print(f\"Successfully read the file with encoding: {enc}\")\n",
    "                return df\n",
    "            except Exception as e:\n",
    "                print(f\"Error with encoding {enc}:\", e)\n",
    "                \n",
    "        return None"
   ]
  },
  {
   "cell_type": "code",
   "execution_count": 9,
   "metadata": {},
   "outputs": [
    {
     "name": "stdout",
     "output_type": "stream",
     "text": [
      "Detected encoding: utf-8\n",
      "<class 'pandas.core.frame.DataFrame'>\n",
      "RangeIndex: 11123 entries, 0 to 11122\n",
      "Data columns (total 12 columns):\n",
      " #   Column              Non-Null Count  Dtype  \n",
      "---  ------              --------------  -----  \n",
      " 0   bookID              11123 non-null  int64  \n",
      " 1   title               11123 non-null  object \n",
      " 2   authors             11123 non-null  object \n",
      " 3   average_rating      11123 non-null  float64\n",
      " 4   isbn                11123 non-null  object \n",
      " 5   isbn13              11123 non-null  int64  \n",
      " 6   language_code       11123 non-null  object \n",
      " 7   num_pages           11123 non-null  int64  \n",
      " 8   ratings_count       11123 non-null  int64  \n",
      " 9   text_reviews_count  11123 non-null  int64  \n",
      " 10  publication_date    11123 non-null  object \n",
      " 11  publisher           11123 non-null  object \n",
      "dtypes: float64(1), int64(5), object(6)\n",
      "memory usage: 1.0+ MB\n",
      "None\n"
     ]
    }
   ],
   "source": [
    "df1 = read_csv_auto_encoding('data/Goodreads-books/books_corrected.csv', \",\")\n",
    "print(df1.info())\n"
   ]
  },
  {
   "cell_type": "markdown",
   "metadata": {},
   "source": [
    "1.bookID: ID của sách trong cơ sở dữ liệu. Đây là một giá trị duy nhất cho mỗi cuốn sách.\n",
    "\n",
    "2.title: Tiêu đề của cuốn sách.\n",
    "\n",
    "3.authors: Tên tác giả hoặc các tác giả của cuốn sách.\n",
    "\n",
    "4.average_rating: Điểm đánh giá trung bình của cuốn sách, được tính từ các đánh giá của người đọc.\n",
    "\n",
    "5.isbn: Mã số chuẩn quốc tế của sách phiên bản 10 chữ số (International Standard Book Number).\n",
    "\n",
    "6.isbn13: Mã số chuẩn quốc tế của sách phiên bản 13 chữ số.\n",
    "\n",
    "7.language_code: Mã ngôn ngữ của cuốn sách (ví dụ: 'en' cho tiếng Anh, 'fr' cho tiếng Pháp).\n",
    "\n",
    "8.num_pages: Số trang của cuốn sách.\n",
    "\n",
    "9.ratings_count: Tổng số lần cuốn sách được đánh giá bởi người đọc.\n",
    "\n",
    "10.text_reviews_count: Tổng số bài đánh giá (dạng văn bản) của người đọc về cuốn sách.\n",
    "\n",
    "11.publication_date: Ngày xuất bản của cuốn sách.\n",
    "\n",
    "12.publisher: Tên nhà xuất bản của cuốn sách."
   ]
  },
  {
   "cell_type": "markdown",
   "metadata": {},
   "source": [
    "DATA 2"
   ]
  },
  {
   "cell_type": "code",
   "execution_count": 10,
   "metadata": {},
   "outputs": [
    {
     "name": "stdout",
     "output_type": "stream",
     "text": [
      "Detected encoding: ISO-8859-1\n",
      "<class 'pandas.core.frame.DataFrame'>\n",
      "RangeIndex: 271379 entries, 0 to 271378\n",
      "Data columns (total 8 columns):\n",
      " #   Column               Non-Null Count   Dtype \n",
      "---  ------               --------------   ----- \n",
      " 0   ISBN                 271379 non-null  object\n",
      " 1   Book-Title           271379 non-null  object\n",
      " 2   Book-Author          271377 non-null  object\n",
      " 3   Year-Of-Publication  271379 non-null  int64 \n",
      " 4   Publisher            271377 non-null  object\n",
      " 5   Image-URL-S          271379 non-null  object\n",
      " 6   Image-URL-M          271379 non-null  object\n",
      " 7   Image-URL-L          271379 non-null  object\n",
      "dtypes: int64(1), object(7)\n",
      "memory usage: 16.6+ MB\n",
      "None\n"
     ]
    }
   ],
   "source": [
    "df2_Books = read_csv_auto_encoding(\"data/Book Recommendation Dataset/Book reviews/BX_Books.csv\" , \";\")\n",
    "print(df2_Books.info())"
   ]
  },
  {
   "cell_type": "markdown",
   "metadata": {},
   "source": [
    "ISBN: Mã số chuẩn quốc tế dùng để xác định duy nhất mỗi cuốn sách.\n",
    "\n",
    "Book-Title: Tiêu đề của cuốn sách.\n",
    "\n",
    "Book-Author: Tên tác giả của cuốn sách.\n",
    "\n",
    "Year-Of-Publication: Năm xuất bản của cuốn sách.\n",
    "\n",
    "Publisher: Tên nhà xuất bản của cuốn sách.\n",
    "\n",
    "Image-URL-S: URL của ảnh bìa sách kích thước nhỏ.\n",
    "\n",
    "Image-URL-M: URL của ảnh bìa sách kích thước trung bình.\n",
    "\n",
    "Image-URL-L: URL của ảnh bìa sách kích thước lớn.\n"
   ]
  },
  {
   "cell_type": "code",
   "execution_count": 4,
   "metadata": {},
   "outputs": [
    {
     "name": "stdout",
     "output_type": "stream",
     "text": [
      "Detected encoding: ascii\n",
      "Error with detected encoding ascii: 'ascii' codec can't decode byte 0xba in position 183549: ordinal not in range(128)\n",
      "Successfully read the file with encoding: latin1\n",
      "<class 'pandas.core.frame.DataFrame'>\n",
      "RangeIndex: 1149780 entries, 0 to 1149779\n",
      "Data columns (total 3 columns):\n",
      " #   Column       Non-Null Count    Dtype \n",
      "---  ------       --------------    ----- \n",
      " 0   User-ID      1149780 non-null  int64 \n",
      " 1   ISBN         1149780 non-null  object\n",
      " 2   Book-Rating  1149780 non-null  int64 \n",
      "dtypes: int64(2), object(1)\n",
      "memory usage: 26.3+ MB\n",
      "None\n"
     ]
    }
   ],
   "source": [
    "df2_Book_Ratings = read_csv_auto_encoding(\"data/Book Recommendation Dataset/Book reviews/BX-Book-Ratings.csv\" , \";\")\n",
    "print(df2_Book_Ratings.info())"
   ]
  },
  {
   "cell_type": "markdown",
   "metadata": {},
   "source": [
    "User-ID: ID của người dùng đã đánh giá sách.\n",
    "\n",
    "ISBN: Mã số chuẩn quốc tế của sách, dùng để xác định duy nhất từng cuốn sách.\n",
    "\n",
    "Book-Rating: Đánh giá của người dùng cho cuốn sách, có thể nằm trong khoảng từ 0 đến 10 (hoặc một hệ số đánh giá khác tùy thuộc vào hệ thống)."
   ]
  },
  {
   "cell_type": "code",
   "execution_count": 5,
   "metadata": {},
   "outputs": [
    {
     "name": "stdout",
     "output_type": "stream",
     "text": [
      "Detected encoding: ISO-8859-1\n",
      "<class 'pandas.core.frame.DataFrame'>\n",
      "RangeIndex: 278858 entries, 0 to 278857\n",
      "Data columns (total 3 columns):\n",
      " #   Column    Non-Null Count   Dtype  \n",
      "---  ------    --------------   -----  \n",
      " 0   User-ID   278858 non-null  int64  \n",
      " 1   Location  278858 non-null  object \n",
      " 2   Age       168096 non-null  float64\n",
      "dtypes: float64(1), int64(1), object(1)\n",
      "memory usage: 6.4+ MB\n",
      "None\n"
     ]
    }
   ],
   "source": [
    "df2_Users = read_csv_auto_encoding(\"data/Book Recommendation Dataset/Book reviews/BX-Users.csv\" , \";\")\n",
    "print(df2_Users.info())"
   ]
  },
  {
   "cell_type": "markdown",
   "metadata": {},
   "source": [
    "User-ID : ID người dùng đã đánh giá sách\n",
    "\n",
    "Location : Địa điểm địa lý của người dùng, bao gồm thông tin về thành phố, bang hoặc tỉnh, và quốc gia mà họ đang sinh sống hoặc đăng ký tài khoản.\n",
    "\n",
    "Age  : tuổi , có nhiều giá trị null\n"
   ]
  },
  {
   "cell_type": "code",
   "execution_count": 30,
   "metadata": {},
   "outputs": [
    {
     "name": "stdout",
     "output_type": "stream",
     "text": [
      "Detected encoding: ascii\n",
      "Error with detected encoding ascii: 'ascii' codec can't decode byte 0xc3 in position 19794: ordinal not in range(128)\n",
      "Successfully read the file with encoding: latin1\n",
      "<class 'pandas.core.frame.DataFrame'>\n",
      "RangeIndex: 1031175 entries, 0 to 1031174\n",
      "Data columns (total 19 columns):\n",
      " #   Column               Non-Null Count    Dtype  \n",
      "---  ------               --------------    -----  \n",
      " 0   Unnamed: 0           1031175 non-null  int64  \n",
      " 1   user_id              1031175 non-null  int64  \n",
      " 2   location             1031175 non-null  object \n",
      " 3   age                  1031175 non-null  float64\n",
      " 4   isbn                 1031175 non-null  object \n",
      " 5   rating               1031175 non-null  int64  \n",
      " 6   book_title           1031175 non-null  object \n",
      " 7   book_author          1031174 non-null  object \n",
      " 8   year_of_publication  1031175 non-null  float64\n",
      " 9   publisher            1031175 non-null  object \n",
      " 10  img_s                1031175 non-null  object \n",
      " 11  img_m                1031175 non-null  object \n",
      " 12  img_l                1031175 non-null  object \n",
      " 13  Summary              1031175 non-null  object \n",
      " 14  Language             1031175 non-null  object \n",
      " 15  Category             1031175 non-null  object \n",
      " 16  city                 1017072 non-null  object \n",
      " 17  state                1008377 non-null  object \n",
      " 18  country              995801 non-null   object \n",
      "dtypes: float64(2), int64(3), object(14)\n",
      "memory usage: 149.5+ MB\n",
      "None\n"
     ]
    }
   ],
   "source": [
    "df2_Preprocessed = read_csv_auto_encoding(\"data/Book Recommendation Dataset/Books Data with Category Language and Summary/Preprocessed_data.csv\" , \",\")\n",
    "print(df2_Preprocessed.info())"
   ]
  },
  {
   "cell_type": "markdown",
   "metadata": {},
   "source": [
    "File gộp"
   ]
  },
  {
   "cell_type": "markdown",
   "metadata": {},
   "source": [
    "DATA 3\n"
   ]
  },
  {
   "cell_type": "code",
   "execution_count": 7,
   "metadata": {},
   "outputs": [
    {
     "name": "stdout",
     "output_type": "stream",
     "text": [
      "Detected encoding: ascii\n",
      "Error with detected encoding ascii: 'ascii' codec can't decode byte 0xe2 in position 43809: ordinal not in range(128)\n",
      "Successfully read the file with encoding: latin1\n",
      "<class 'pandas.core.frame.DataFrame'>\n",
      "RangeIndex: 103063 entries, 0 to 103062\n",
      "Data columns (total 8 columns):\n",
      " #   Column                   Non-Null Count   Dtype  \n",
      "---  ------                   --------------   -----  \n",
      " 0   Title                    103063 non-null  object \n",
      " 1   Authors                  103063 non-null  object \n",
      " 2   Description              70204 non-null   object \n",
      " 3   Category                 76902 non-null   object \n",
      " 4   Publisher                103055 non-null  object \n",
      " 5   Price Starting With ($)  103063 non-null  float64\n",
      " 6   Publish Date (Month)     103063 non-null  object \n",
      " 7   Publish Date (Year)      103063 non-null  int64  \n",
      "dtypes: float64(1), int64(1), object(6)\n",
      "memory usage: 6.3+ MB\n",
      "None\n"
     ]
    }
   ],
   "source": [
    "df3 = read_csv_auto_encoding(\"data/BooksDataset/BooksDatasetClean.csv\" , \",\")\n",
    "print(df3.info())"
   ]
  }
 ],
 "metadata": {
  "kernelspec": {
   "display_name": "Python 3",
   "language": "python",
   "name": "python3"
  },
  "language_info": {
   "codemirror_mode": {
    "name": "ipython",
    "version": 3
   },
   "file_extension": ".py",
   "mimetype": "text/x-python",
   "name": "python",
   "nbconvert_exporter": "python",
   "pygments_lexer": "ipython3",
   "version": "3.10.11"
  }
 },
 "nbformat": 4,
 "nbformat_minor": 2
}
