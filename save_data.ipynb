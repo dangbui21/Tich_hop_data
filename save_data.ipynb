{
 "cells": [
  {
   "cell_type": "code",
   "execution_count": 1,
   "metadata": {},
   "outputs": [],
   "source": [
    "import pandas as pd\n",
    "import chardet\n",
    "import numpy as np\n",
    "\n",
    "def read_csv_auto_encoding(file_path, delimiter):\n",
    "    # Phát hiện mã hóa tự động\n",
    "    with open(file_path, 'rb') as f:\n",
    "        result = chardet.detect(f.read(10000))\n",
    "    \n",
    "    encoding = result['encoding']\n",
    "    print(f\"Detected encoding: {encoding}\")\n",
    "    \n",
    "    # Đọc tệp CSV với mã hóa được phát hiện\n",
    "    try:\n",
    "        df = pd.read_csv(file_path, delimiter=delimiter, encoding=encoding)            \n",
    "        return df\n",
    "    except Exception as e:\n",
    "        print(f\"Error with detected encoding {encoding}:\", e)\n",
    "        # Thử mã hóa phổ biến khác\n",
    "        for enc in ['latin1', 'iso-8859-1', 'cp1252']:\n",
    "            try:\n",
    "                df = pd.read_csv(file_path, delimiter=delimiter, encoding=enc)\n",
    "                print(f\"Successfully read the file with encoding: {enc}\")\n",
    "                return df\n",
    "            except Exception as e:\n",
    "                print(f\"Error with encoding {enc}:\", e)\n",
    "                \n",
    "        return None"
   ]
  },
  {
   "cell_type": "code",
   "execution_count": 4,
   "metadata": {},
   "outputs": [
    {
     "name": "stdout",
     "output_type": "stream",
     "text": [
      "Detected encoding: utf-8\n"
     ]
    },
    {
     "name": "stderr",
     "output_type": "stream",
     "text": [
      "C:\\Users\\buida\\AppData\\Local\\Temp\\ipykernel_9876\\3654919718.py:15: DtypeWarning: Columns (4,5,6,12,13,14,15,16) have mixed types. Specify dtype option on import or set low_memory=False.\n",
      "  df = pd.read_csv(file_path, delimiter=delimiter, encoding=encoding)\n"
     ]
    },
    {
     "name": "stdout",
     "output_type": "stream",
     "text": [
      "<class 'pandas.core.frame.DataFrame'>\n",
      "RangeIndex: 374298 entries, 0 to 374297\n",
      "Data columns (total 18 columns):\n",
      " #   Column            Non-Null Count   Dtype  \n",
      "---  ------            --------------   -----  \n",
      " 0   bookid            9013 non-null    float64\n",
      " 1   title             374298 non-null  object \n",
      " 2   authors           374296 non-null  object \n",
      " 3   avgreviews        9013 non-null    float64\n",
      " 4   isbn              279116 non-null  object \n",
      " 5   isbn13            278993 non-null  object \n",
      " 6   languagecode      9013 non-null    object \n",
      " 7   numpages          9013 non-null    float64\n",
      " 8   nreviews          9013 non-null    float64\n",
      " 9   textreviewscount  9013 non-null    float64\n",
      " 10  publisher         374288 non-null  object \n",
      " 11  publicationyear   374296 non-null  float64\n",
      " 12  image-url-s       272549 non-null  object \n",
      " 13  image-url-m       272549 non-null  object \n",
      " 14  image-url-l       272549 non-null  object \n",
      " 15  description       77417 non-null   object \n",
      " 16  category          83812 non-null   object \n",
      " 17  price             110960 non-null  float64\n",
      "dtypes: float64(7), object(11)\n",
      "memory usage: 51.4+ MB\n",
      "None\n"
     ]
    }
   ],
   "source": [
    "data = read_csv_auto_encoding(\"data/merged_books2.csv\" , \",\")\n",
    "\n",
    "print(data.info())"
   ]
  },
  {
   "cell_type": "code",
   "execution_count": 2,
   "metadata": {},
   "outputs": [
    {
     "name": "stdout",
     "output_type": "stream",
     "text": [
      "Kết nối thành công!\n",
      "Empty DataFrame\n",
      "Columns: [BookID, Title, Authors, ISBN, ISBN13, LanguageCode, NumPages, PublicationYear, Publisher, Description, Category]\n",
      "Index: []\n"
     ]
    },
    {
     "name": "stderr",
     "output_type": "stream",
     "text": [
      "C:\\Users\\buida\\AppData\\Local\\Temp\\ipykernel_13780\\941499857.py:17: UserWarning: pandas only supports SQLAlchemy connectable (engine/connection) or database string URI or sqlite3 DBAPI2 connection. Other DBAPI2 objects are not tested. Please consider using SQLAlchemy.\n",
      "  df = pd.read_sql(query, conn)\n"
     ]
    }
   ],
   "source": [
    "import pyodbc\n",
    "\n",
    "# Thông tin kết nối\n",
    "server = 'DESKTOP-G05LG93\\\\SQLEXPRESS'\n",
    "database = 'DataWarehouse'\n",
    "username = ''\n",
    "password = ''\n",
    "\n",
    "# Chuỗi kết nối\n",
    "connection_string = f'DRIVER={{SQL Server}};SERVER={server};DATABASE={database};UID={username};PWD={password}'\n",
    "\n",
    "# Kết nối tới SQL Server\n",
    "try:\n",
    "    conn = pyodbc.connect(connection_string)\n",
    "    print(\"Kết nối thành công!\")\n",
    "    query = \"select * from dimBooks\"\n",
    "    df = pd.read_sql(query, conn)\n",
    "    print(df.head())\n",
    "    \n",
    "except pyodbc.Error as e:\n",
    "    print(f\": {e}\")\n",
    "\n",
    "\n",
    "# Đóng kết nối\n",
    "conn.close()\n"
   ]
  },
  {
   "cell_type": "code",
   "execution_count": 6,
   "metadata": {},
   "outputs": [
    {
     "name": "stdout",
     "output_type": "stream",
     "text": [
      "Kết nối thành công!\n"
     ]
    },
    {
     "name": "stderr",
     "output_type": "stream",
     "text": [
      "C:\\Users\\buida\\AppData\\Local\\Temp\\ipykernel_13780\\3897731325.py:19: DtypeWarning: Columns (4,5,6,12,13,14,15,16) have mixed types. Specify dtype option on import or set low_memory=False.\n",
      "  df = pd.read_csv(\"data/merged_books2.csv\", delimiter=\",\")\n"
     ]
    },
    {
     "name": "stdout",
     "output_type": "stream",
     "text": [
      "Dữ liệu đã được ghi vào cơ sở dữ liệu thành công!\n"
     ]
    }
   ],
   "source": [
    "import pandas as pd\n",
    "import numpy as np\n",
    "import pyodbc\n",
    "\n",
    "# Thông tin kết nối\n",
    "server = 'DESKTOP-G05LG93\\\\SQLEXPRESS'\n",
    "database = 'DataWarehouse2'\n",
    "username = ''\n",
    "password = ''\n",
    "\n",
    "# Chuỗi kết nối\n",
    "connection_string = f'DRIVER={{SQL Server}};SERVER={server};DATABASE={database};UID={username};PWD={password}'\n",
    "\n",
    "# Kết nối tới SQL Server\n",
    "conn = pyodbc.connect(connection_string)\n",
    "print(\"Kết nối thành công!\")\n",
    "\n",
    "# Đọc dữ liệu từ tệp CSV và thay thế NaN bằng None\n",
    "df = pd.read_csv(\"data/merged_books2.csv\", delimiter=\",\")\n",
    "df = df.where(pd.notnull(df), -1)\n",
    "\n",
    "# Chuyển đổi kiểu dữ liệu của các cột\n",
    "df['publicationyear'] = df['publicationyear'].astype('Int64')\n",
    "df['numpages'] = df['numpages'].astype('Int64')\n",
    "df['nreviews'] = df['nreviews'].astype('Int64')\n",
    "df['textreviewscount'] = df['textreviewscount'].astype('Int64')\n",
    "df['price'] = df['price'].astype('Float64')\n",
    "df['avgreviews'] = df['avgreviews'].astype('Float64')\n",
    "\n",
    "# Tạo một con trỏ (cursor)\n",
    "cursor = conn.cursor()\n",
    "\n",
    "# Lặp qua từng dòng trong DataFrame và thêm vào cơ sở dữ liệu\n",
    "for index, row in df.iterrows():\n",
    "    # Thêm dữ liệu vào bảng dimBooks\n",
    "    insert_query = \"\"\"\n",
    "    INSERT INTO dimBooks (Title, Authors, ISBN, ISBN13, LanguageCode, NumPages, PublicationYear, Publisher, Description, Category)\n",
    "    VALUES (?, ?, ?, ?, ?, ?, ?, ?, ?, ?)\n",
    "    \"\"\"\n",
    "    values = (\n",
    "        row['title'],\n",
    "        row['authors'],\n",
    "        row['isbn'],\n",
    "        row['isbn13'],\n",
    "        row['languagecode'],\n",
    "        row['numpages'],\n",
    "        row['publicationyear'],\n",
    "        row['publisher'],\n",
    "        row['description'],\n",
    "        row['category']\n",
    "    )\n",
    "    cursor.execute(insert_query, values)\n",
    "\n",
    "    # Thêm dữ liệu vào bảng factBookDetails\n",
    "    insert_query = \"\"\"\n",
    "    INSERT INTO factBookDetails (BookID, Price, AvgReviews, NReviews, Image_url_s, Image_url_m, Image_url_l)\n",
    "    VALUES (?, ?, ?, ?, ?, ?, ?)\n",
    "    \"\"\"\n",
    "    values = (\n",
    "        # Lấy giá trị BookID từ bảng dimBooks\n",
    "        cursor.execute(\"SELECT SCOPE_IDENTITY()\").fetchone()[0],\n",
    "        row['price'],\n",
    "        row['avgreviews'],\n",
    "        row['nreviews'],\n",
    "        row['image-url-s'],\n",
    "        row['image-url-m'],\n",
    "        row['image-url-l']\n",
    "    )\n",
    "    cursor.execute(insert_query, values)\n",
    "\n",
    "# Lưu các thay đổi\n",
    "conn.commit()\n",
    "print(\"Dữ liệu đã được ghi vào cơ sở dữ liệu thành công!\")\n",
    "\n",
    "# Đóng kết nối\n",
    "conn.close()\n"
   ]
  },
  {
   "cell_type": "code",
   "execution_count": 7,
   "metadata": {},
   "outputs": [
    {
     "name": "stdout",
     "output_type": "stream",
     "text": [
      "Kết nối thành công!\n"
     ]
    },
    {
     "name": "stderr",
     "output_type": "stream",
     "text": [
      "C:\\Users\\buida\\AppData\\Local\\Temp\\ipykernel_13780\\3180168703.py:19: DtypeWarning: Columns (4,5,6,10,13,15,16,17,18,19) have mixed types. Specify dtype option on import or set low_memory=False.\n",
      "  df = pd.read_csv(\"data/merged_books3.csv\", delimiter=\",\")\n"
     ]
    },
    {
     "name": "stdout",
     "output_type": "stream",
     "text": [
      "Dữ liệu đã được ghi vào cơ sở dữ liệu thành công!\n"
     ]
    }
   ],
   "source": [
    "import pandas as pd\n",
    "import numpy as np\n",
    "import pyodbc\n",
    "\n",
    "# Thông tin kết nối\n",
    "server = 'DESKTOP-G05LG93\\\\SQLEXPRESS'\n",
    "database = 'DataWarehouse3'\n",
    "username = ''\n",
    "password = ''\n",
    "\n",
    "# Chuỗi kết nối\n",
    "connection_string = f'DRIVER={{SQL Server}};SERVER={server};DATABASE={database};UID={username};PWD={password}'\n",
    "\n",
    "# Kết nối tới SQL Server\n",
    "conn = pyodbc.connect(connection_string)\n",
    "print(\"Kết nối thành công!\")\n",
    "\n",
    "# Đọc dữ liệu từ tệp CSV và thay thế NaN bằng None\n",
    "df = pd.read_csv(\"data/merged_books3.csv\", delimiter=\",\")\n",
    "df = df.where(pd.notnull(df), -1)\n",
    "\n",
    "# Chuyển đổi kiểu dữ liệu của các cột\n",
    "df['publicationyear'] = df['publicationyear'].astype('Int64')\n",
    "df['numpages'] = df['numpages'].astype('Int64')\n",
    "df['nreviews'] = df['nreviews'].astype('Int64')\n",
    "df['textreviewscount'] = df['textreviewscount'].astype('Int64')\n",
    "df['price'] = df['price'].astype('Float64')\n",
    "df['avgreviews'] = df['avgreviews'].astype('Float64')\n",
    "\n",
    "# Tạo một con trỏ (cursor)\n",
    "cursor = conn.cursor()\n",
    "\n",
    "# Lặp qua từng dòng trong DataFrame và thêm vào cơ sở dữ liệu\n",
    "for index, row in df.iterrows():\n",
    "    # Thêm dữ liệu vào bảng dimBooks\n",
    "    # Thêm dữ liệu vào bảng dimBooks\n",
    "    insert_query_dimBooks = \"\"\"\n",
    "    INSERT INTO dimBooks (Title, Authors, ISBN, ISBN13, LanguageCode, NumPages, PublicationYear, Publisher, Description, Category)\n",
    "    VALUES (?, ?, ?, ?, ?, ?, ?, ?, ?, ?)\n",
    "    \"\"\"\n",
    "    values_dimBooks = (\n",
    "        row['title'],\n",
    "        row['authors'],\n",
    "        row['isbn'],\n",
    "        row['isbn13'],\n",
    "        row['languagecode'],\n",
    "        row['numpages'],\n",
    "        row['publicationyear'],\n",
    "        row['publisher'],\n",
    "        row['description'],\n",
    "        row['category']\n",
    "    )\n",
    "    cursor.execute(insert_query_dimBooks, values_dimBooks)\n",
    "\n",
    "    # Lấy giá trị BookID mà vừa được thêm vào bảng dimBooks\n",
    "    cursor.execute(\"SELECT IDENT_CURRENT('dimBooks')\")\n",
    "    BookID = cursor.fetchone()[0]\n",
    "\n",
    "    # Thêm dữ liệu vào bảng factBookDetails\n",
    "    insert_query_factBookDetails = \"\"\"\n",
    "    INSERT INTO factBookDetails (BookID, Price, AvgReviews, NReviews, Image_url_s, Image_url_m, Image_url_l)\n",
    "    VALUES (?, ?, ?, ?, ?, ?, ?)\n",
    "    \"\"\"\n",
    "    values_factBookDetails = (\n",
    "        BookID,\n",
    "        row['price'],\n",
    "        row['avgreviews'],\n",
    "        row['nreviews'],\n",
    "        row['image-url-s'],\n",
    "        row['image-url-m'],\n",
    "        row['image-url-l']\n",
    "    )\n",
    "    cursor.execute(insert_query_factBookDetails, values_factBookDetails)\n",
    "\n",
    "# Lưu các thay đổi\n",
    "conn.commit()\n",
    "print(\"Dữ liệu đã được ghi vào cơ sở dữ liệu thành công!\")\n",
    "\n",
    "# Đóng kết nối\n",
    "conn.close()\n"
   ]
  }
 ],
 "metadata": {
  "kernelspec": {
   "display_name": "Python 3",
   "language": "python",
   "name": "python3"
  },
  "language_info": {
   "codemirror_mode": {
    "name": "ipython",
    "version": 3
   },
   "file_extension": ".py",
   "mimetype": "text/x-python",
   "name": "python",
   "nbconvert_exporter": "python",
   "pygments_lexer": "ipython3",
   "version": "3.10.11"
  }
 },
 "nbformat": 4,
 "nbformat_minor": 2
}
